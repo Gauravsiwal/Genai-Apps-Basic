{
 "cells": [
  {
   "cell_type": "markdown",
   "id": "c019e8c0",
   "metadata": {},
   "source": [
    "## Requirements"
   ]
  },
  {
   "cell_type": "code",
   "execution_count": 12,
   "id": "509e5bae",
   "metadata": {},
   "outputs": [],
   "source": [
    "# pip install google-generativeai\n",
    "# pip install dotenv\n",
    "# pip install langchain-google-genai\n",
    "# pip install langchain"
   ]
  },
  {
   "cell_type": "markdown",
   "id": "f9f46fc9",
   "metadata": {},
   "source": [
    "## Imports"
   ]
  },
  {
   "cell_type": "code",
   "execution_count": 1,
   "id": "99751947",
   "metadata": {},
   "outputs": [],
   "source": [
    "import google.generativeai as genai\n",
    "# from dotenv import load_dotenv\n",
    "import os"
   ]
  },
  {
   "cell_type": "code",
   "execution_count": 2,
   "id": "cabb1ac8",
   "metadata": {},
   "outputs": [],
   "source": [
    "apikey = os.getenv('GOOGLE_API_KEY')\n",
    "genai.configure(api_key=apikey)"
   ]
  },
  {
   "cell_type": "code",
   "execution_count": null,
   "id": "ddf25556",
   "metadata": {},
   "outputs": [
    {
     "data": {
      "text/plain": [
       "True"
      ]
     },
     "execution_count": 4,
     "metadata": {},
     "output_type": "execute_result"
    }
   ],
   "source": [
    "# load_dotenv()"
   ]
  },
  {
   "cell_type": "code",
   "execution_count": 3,
   "id": "a72aca17",
   "metadata": {},
   "outputs": [
    {
     "name": "stdout",
     "output_type": "stream",
     "text": [
      "models/gemini-1.5-pro-latest\n",
      "models/gemini-1.5-pro-002\n",
      "models/gemini-1.5-pro\n",
      "models/gemini-1.5-flash-latest\n",
      "models/gemini-1.5-flash\n",
      "models/gemini-1.5-flash-002\n",
      "models/gemini-1.5-flash-8b\n",
      "models/gemini-1.5-flash-8b-001\n",
      "models/gemini-1.5-flash-8b-latest\n",
      "models/gemini-2.5-pro-preview-03-25\n",
      "models/gemini-2.5-flash-preview-05-20\n",
      "models/gemini-2.5-flash\n",
      "models/gemini-2.5-flash-lite-preview-06-17\n",
      "models/gemini-2.5-pro-preview-05-06\n",
      "models/gemini-2.5-pro-preview-06-05\n",
      "models/gemini-2.5-pro\n",
      "models/gemini-2.0-flash-exp\n",
      "models/gemini-2.0-flash\n",
      "models/gemini-2.0-flash-001\n",
      "models/gemini-2.0-flash-exp-image-generation\n",
      "models/gemini-2.0-flash-lite-001\n",
      "models/gemini-2.0-flash-lite\n",
      "models/gemini-2.0-flash-preview-image-generation\n",
      "models/gemini-2.0-flash-lite-preview-02-05\n",
      "models/gemini-2.0-flash-lite-preview\n",
      "models/gemini-2.0-pro-exp\n",
      "models/gemini-2.0-pro-exp-02-05\n",
      "models/gemini-exp-1206\n",
      "models/gemini-2.0-flash-thinking-exp-01-21\n",
      "models/gemini-2.0-flash-thinking-exp\n",
      "models/gemini-2.0-flash-thinking-exp-1219\n",
      "models/gemini-2.5-flash-preview-tts\n",
      "models/gemini-2.5-pro-preview-tts\n",
      "models/learnlm-2.0-flash-experimental\n",
      "models/gemma-3-1b-it\n",
      "models/gemma-3-4b-it\n",
      "models/gemma-3-12b-it\n",
      "models/gemma-3-27b-it\n",
      "models/gemma-3n-e4b-it\n",
      "models/gemma-3n-e2b-it\n",
      "models/gemini-2.5-flash-lite\n",
      "models/gemini-2.5-flash-image-preview\n"
     ]
    }
   ],
   "source": [
    "for m in genai.list_models():\n",
    "  if 'generateContent' in m.supported_generation_methods:\n",
    "    print(m.name)"
   ]
  },
  {
   "cell_type": "markdown",
   "id": "3a76bbe0",
   "metadata": {},
   "source": [
    "## Simple Text Generation"
   ]
  },
  {
   "cell_type": "code",
   "execution_count": 4,
   "id": "11019345",
   "metadata": {},
   "outputs": [],
   "source": [
    "model = genai.GenerativeModel(\"gemini-2.0-flash-lite\")"
   ]
  },
  {
   "cell_type": "code",
   "execution_count": 5,
   "id": "e4f751b7",
   "metadata": {},
   "outputs": [],
   "source": [
    "prompt = '''Assume you are a sports expert. Kindly prepare a summary of MS Dhoni's carrer. Include all\n",
    "statistics and highlight the key achievemnets.'''"
   ]
  },
  {
   "cell_type": "code",
   "execution_count": 6,
   "id": "71e2add2",
   "metadata": {},
   "outputs": [],
   "source": [
    "response = model.generate_content(prompt)"
   ]
  },
  {
   "cell_type": "code",
   "execution_count": 8,
   "id": "6c5867e1",
   "metadata": {},
   "outputs": [
    {
     "name": "stdout",
     "output_type": "stream",
     "text": [
      "Alright, let's dive into the legendary career of Mahendra Singh Dhoni, a cricketing icon whose impact extends far beyond mere statistics. He's a legend, a captain, a finisher, and a true game-changer.\n",
      "\n",
      "**Key Achievements & Career Highlights:**\n",
      "\n",
      "*   **Unparalleled Captaincy:** This is arguably Dhoni's greatest strength. He's the *only* captain in cricket history to have won all three major ICC trophies:\n",
      "    *   **2007 ICC World Twenty20 (India)**: A young team, under pressure, led with remarkable composure and delivered a historic victory.\n",
      "    *   **2011 ICC Cricket World Cup (India)**: A victory at home, ending India's 28-year wait for a 50-over World Cup. Dhoni's match-winning innings in the final against Sri Lanka is etched in history.\n",
      "    *   **2013 ICC Champions Trophy (England)**: Completing the hat-trick of ICC titles with a clinical performance in the final against England.\n",
      "    *   **2010 & 2011 Indian Premier League (IPL)**: Led Chennai Super Kings (CSK) to consecutive titles, setting the stage for his enduring legacy with the franchise.\n",
      "    *   **2018, 2021, 2023 Indian Premier League (IPL)**: Led Chennai Super Kings (CSK) to IPL titles.\n",
      "*   **Exceptional Wicket-Keeper:** Dhoni revolutionized wicket-keeping, particularly in the shorter formats. His lightning-fast reflexes, agility, and ability to read the game made him a formidable presence behind the stumps.\n",
      "    *   He is known for his quick stumpings, often catching batsmen off guard.\n",
      "    *   He holds numerous records for the most dismissals by a wicket-keeper.\n",
      "*   **Brilliant Finisher:** Dhoni's ability to chase down targets under pressure was legendary. He possessed incredible composure, power, and the ability to accelerate at the right moment. His trademark helicopter shot became an iconic symbol of his finishing prowess.\n",
      "*   **Strategic Genius:** Dhoni's captaincy was lauded for his tactical brilliance. He was known for his on-field calm, shrewd field placements, effective bowling changes, and his ability to assess match situations quickly.\n",
      "*   **Longevity and Consistency:** Dhoni played international cricket for a remarkable 15 years, maintaining a high level of performance and fitness throughout his career.\n",
      "\n",
      "**Statistics (Significant Figures):**\n",
      "\n",
      "**Tests:**\n",
      "\n",
      "*   **Matches:** 90\n",
      "*   **Runs:** 4876\n",
      "*   **Average:** 38.09\n",
      "*   **Hundreds:** 6\n",
      "*   **Wicket-keeping Dismissals:** 294 (256 catches, 38 stumpings)\n",
      "\n",
      "**ODIs:**\n",
      "\n",
      "*   **Matches:** 350\n",
      "*   **Runs:** 10,773\n",
      "*   **Average:** 50.57 (One of the highest averages for a batsman with over 10,000 runs)\n",
      "*   **Hundreds:** 10\n",
      "*   **Wicket-keeping Dismissals:** 444 (321 catches, 123 stumpings)\n",
      "\n",
      "**T20Is:**\n",
      "\n",
      "*   **Matches:** 98\n",
      "*   **Runs:** 1617\n",
      "*   **Average:** 37.60\n",
      "*   **Strike Rate:** 126.13\n",
      "*   **Wicket-keeping Dismissals:** 91 (57 catches, 34 stumpings)\n",
      "\n",
      "**IPL:**\n",
      "\n",
      "*   **Matches:** 250\n",
      "*   **Runs:** 5082\n",
      "*   **Average:** 39.39\n",
      "*   **Strike Rate:** 135.20\n",
      "*   **Fifty:** 24\n",
      "*   **Wicket-keeping Dismissals:** 187 (137 catches, 50 stumpings)\n",
      "\n",
      "**Further Points:**\n",
      "\n",
      "*   Dhoni's influence extends beyond just the numbers. He was a role model for his humility, down-to-earth nature, and unwavering commitment to his team.\n",
      "*   He's renowned for his mental toughness, ability to remain calm under pressure, and to bring out the best in his teammates.\n",
      "*   He retired from international cricket in August 2020, but continues to play in the IPL.\n",
      "\n",
      "**In conclusion,** Mahendra Singh Dhoni's career is a testament to his skill, leadership, and unwavering dedication to the sport. His achievements in all formats, particularly as a captain, and his impact on the game of cricket make him one of the most celebrated and respected figures in the history of the sport. He is, without a doubt, a cricketing legend.\n",
      "\n"
     ]
    }
   ],
   "source": [
    "print(response.text)"
   ]
  },
  {
   "cell_type": "markdown",
   "id": "aac07617",
   "metadata": {},
   "source": [
    "## LangChain"
   ]
  },
  {
   "cell_type": "markdown",
   "id": "93ffbdb3",
   "metadata": {},
   "source": [
    "LangChain is an **open-source framework** designed to make it easier to build applications powered by large language models (LLMs) like GPT.\n",
    "\n",
    "Think of it as a **toolbox + pipeline manager** for AI applications. Instead of just sending text to a model and getting a response, LangChain helps you **connect the model with external data, tools, and workflows**.\n",
    "\n",
    "Here’s a breakdown:\n",
    "\n",
    "| **Aspect**       | **Explanation**                                                                                                                                                                                                                                                                                                                                                                                                                                                                                                                                                   |\n",
    "| ---------------- | ----------------------------------------------------------------------------------------------------------------------------------------------------------------------------------------------------------------------------------------------------------------------------------------------------------------------------------------------------------------------------------------------------------------------------------------------------------------------------------------------------------------------------------------------------------------- |\n",
    "| **Purpose**      | To simplify building AI apps that go beyond simple Q\\&A and involve reasoning, memory, and integration with external systems.                                                                                                                                                                                                                                                                                                                                                                                                                                     |\n",
    "| **Key Features** | <ul><li>🔗 **Chains** – link multiple steps together (e.g., fetch data → summarize → generate answer).</li><li>📚 **Agents** – let the LLM decide what tool or action to use (like a planner).</li><li>🧠 **Memory** – store context from previous interactions so the model can recall past conversations.</li><li>📂 **Data connectors** – load and query data from PDFs, databases, APIs, websites, etc.</li><li>⚙️ **Integration** – works with tools like OpenAI, Hugging Face, Pinecone, Weaviate, FAISS (for vector search), SQL databases, etc.</li></ul> |\n",
    "| **Use Cases**    | <ul><li>Chatbots with memory</li><li>Question answering over private documents</li><li>Automated report generation</li><li>Code assistants</li><li>AI agents that can use APIs/tools</li></ul>                                                                                                                                                                                                                                                                                                                                                                    |\n",
    "| **Analogy**      | Imagine you’re building a software app. LLM is like the **CPU**, but LangChain is the **operating system + libraries** that help the CPU talk to memory, files, and external devices.                                                                                                                                                                                                                                                                                                                                                                             |\n",
    "\n",
    "So, instead of you writing all the plumbing code to handle inputs, outputs, memory, and tool usage, LangChain provides a structured way to do it.\n"
   ]
  },
  {
   "cell_type": "markdown",
   "id": "2d764be6",
   "metadata": {},
   "source": [
    "### Text Generation Using Langchain"
   ]
  },
  {
   "cell_type": "code",
   "execution_count": 9,
   "id": "e26fbf16",
   "metadata": {},
   "outputs": [],
   "source": [
    "from langchain_google_genai import ChatGoogleGenerativeAI"
   ]
  },
  {
   "cell_type": "code",
   "execution_count": 10,
   "id": "e35aa0f5",
   "metadata": {},
   "outputs": [],
   "source": [
    "model = ChatGoogleGenerativeAI(\n",
    "    model=\"gemini-2.0-flash-lite-preview\",        # You can also try \"gemini-1.5-pro\"\n",
    "    temperature=0.7,api_key = apikey)"
   ]
  },
  {
   "cell_type": "code",
   "execution_count": 11,
   "id": "664d1e99",
   "metadata": {},
   "outputs": [],
   "source": [
    "prompt = '''Assume you are a sports expert. Kindly prepare a summary of MS Dhoni's carrer. Include all\n",
    "statistics and highlight the key achievemnets.'''"
   ]
  },
  {
   "cell_type": "code",
   "execution_count": 12,
   "id": "c2b50702",
   "metadata": {},
   "outputs": [],
   "source": [
    "response = model.invoke(prompt)"
   ]
  },
  {
   "cell_type": "code",
   "execution_count": 13,
   "id": "44dc155c",
   "metadata": {},
   "outputs": [
    {
     "name": "stdout",
     "output_type": "stream",
     "text": [
      "Alright, buckle up! Let's dive into the legendary career of Mahendra Singh Dhoni, a name synonymous with Indian cricket and leadership. This summary will cover his key achievements and relevant statistics:\n",
      "\n",
      "**MS Dhoni: A Career in Cricket - A Summary**\n",
      "\n",
      "MS Dhoni, affectionately known as \"Captain Cool,\" is arguably one of the greatest captains and finishers in the history of cricket. His impact extends beyond just his batting and wicketkeeping; he revolutionized the way India approached limited-overs cricket and instilled a culture of calm under pressure.\n",
      "\n",
      "**Key Achievements:**\n",
      "\n",
      "*   **Unparalleled Leadership:**\n",
      "    *   **Only captain to win all three ICC trophies:** 2007 ICC World Twenty20, 2011 Cricket World Cup, and 2013 ICC Champions Trophy. This achievement alone cements his legacy.\n",
      "    *   **Most successful Indian captain:** Across all formats, Dhoni led India to the most victories.\n",
      "    *   **Consistent leadership:** He captained India in a record number of matches.\n",
      "    *   **Transformation of Indian Cricket:** He built a team that could win consistently on the world stage. He emphasized fitness, fielding, and mental toughness.\n",
      "\n",
      "*   **Batting Prowess & Finishing Ability:**\n",
      "    *   **Exceptional Finisher:** Dhoni was renowned for his ability to remain calm under pressure and finish matches, often taking India over the line from seemingly impossible situations.\n",
      "    *   **Aggressive Batting Style:** Known for his helicopter shot and powerful hitting, he could change the momentum of an innings quickly.\n",
      "    *   **Consistent Run-Scorer:** Maintained a healthy batting average across all formats.\n",
      "\n",
      "*   **Wicketkeeping Excellence:**\n",
      "    *   **Agile and Acrobatic:** Dhoni was a quick and effective wicketkeeper, known for his lightning-fast stumpings.\n",
      "    *   **Tactical Acumen:** His understanding of the game allowed him to anticipate the batsman's moves and assist the bowlers.\n",
      "    *   **Record-Breaking:** Holds numerous wicketkeeping records, including the most stumpings by a wicketkeeper in international cricket.\n",
      "\n",
      "**Statistics (Approximate & Updated as of his retirement):**\n",
      "\n",
      "*   **Tests:**\n",
      "    *   Matches: 90\n",
      "    *   Runs: 4876\n",
      "    *   Average: 38.09\n",
      "    *   Hundreds: 6\n",
      "    *   Wickets: 0\n",
      "    *   Catches: 256\n",
      "    *   Stumpings: 38\n",
      "\n",
      "*   **ODIs:**\n",
      "    *   Matches: 350\n",
      "    *   Runs: 10,773\n",
      "    *   Average: 50.58\n",
      "    *   Hundreds: 10\n",
      "    *   Catches: 321\n",
      "    *   Stumpings: 123\n",
      "\n",
      "*   **T20Is:**\n",
      "    *   Matches: 98\n",
      "    *   Runs: 1617\n",
      "    *   Average: 37.60\n",
      "    *   Fifties: 2\n",
      "    *   Catches: 57\n",
      "    *   Stumpings: 34\n",
      "\n",
      "**Other Notable Achievements and Facts:**\n",
      "\n",
      "*   **IPL Success:** Led Chennai Super Kings (CSK) to multiple IPL titles. He is one of the most successful captains in IPL history.\n",
      "*   **Padma Bhushan Award:** Awarded the Padma Bhushan, India's third-highest civilian award, for his contribution to cricket.\n",
      "*   **Rajiv Gandhi Khel Ratna:** Received the Rajiv Gandhi Khel Ratna award, the highest sporting honor in India.\n",
      "*   **Retirement:** Announced his retirement from international cricket on August 15, 2020, leaving a massive void in Indian cricket.\n",
      "*   **Beyond Cricket:** Dhoni is a successful entrepreneur and businessman, demonstrating his versatility and ability to excel outside of the sport.\n",
      "\n",
      "**In Conclusion:**\n",
      "\n",
      "MS Dhoni's career is a testament to his leadership, batting prowess, wicketkeeping skills, and mental fortitude. He transcended the role of a cricketer and became a national icon. His legacy is defined by his ability to remain calm under pressure, his tactical brilliance, and his unwavering belief in his team. He is undoubtedly one of the greatest cricketers to have ever played the game, and his impact on Indian cricket will be felt for generations to come. He is a true legend.\n"
     ]
    }
   ],
   "source": [
    "print(response.content)"
   ]
  },
  {
   "cell_type": "markdown",
   "id": "5b8ab947",
   "metadata": {},
   "source": [
    "### Chatbot Using langchain"
   ]
  },
  {
   "cell_type": "code",
   "execution_count": 14,
   "id": "1ae514da",
   "metadata": {},
   "outputs": [],
   "source": [
    "from langchain_google_genai import ChatGoogleGenerativeAI\n",
    "from langchain.chains import ConversationChain\n",
    "from langchain.memory import ConversationBufferMemory"
   ]
  },
  {
   "cell_type": "code",
   "execution_count": 15,
   "id": "d166e3c1",
   "metadata": {},
   "outputs": [],
   "source": [
    "\n",
    "chat_model = ChatGoogleGenerativeAI(\n",
    "    model=\"gemini-2.0-flash-lite-preview\",        # You can also try \"gemini-1.5-pro\"\n",
    "    temperature=0.7,api_key=apikey)"
   ]
  },
  {
   "cell_type": "code",
   "execution_count": 16,
   "id": "cafad8c8",
   "metadata": {},
   "outputs": [
    {
     "name": "stderr",
     "output_type": "stream",
     "text": [
      "C:\\Users\\gaura\\AppData\\Local\\Temp\\ipykernel_14884\\788621535.py:4: LangChainDeprecationWarning: Please see the migration guide at: https://python.langchain.com/docs/versions/migrating_memory/\n",
      "  memory=ConversationBufferMemory(return_message=True))\n",
      "C:\\Users\\gaura\\AppData\\Local\\Temp\\ipykernel_14884\\788621535.py:2: LangChainDeprecationWarning: The class `ConversationChain` was deprecated in LangChain 0.2.7 and will be removed in 1.0. Use :class:`~langchain_core.runnables.history.RunnableWithMessageHistory` instead.\n",
      "  conversation = ConversationChain(\n"
     ]
    }
   ],
   "source": [
    "\n",
    "# Add memory so the bot remembers context\n",
    "conversation = ConversationChain(\n",
    "    llm=chat_model,\n",
    "    memory=ConversationBufferMemory(return_message=True))"
   ]
  },
  {
   "cell_type": "code",
   "execution_count": 17,
   "id": "e9727d30",
   "metadata": {},
   "outputs": [
    {
     "name": "stdout",
     "output_type": "stream",
     "text": [
      "🤖 Gemini Chatbot with Memory (type 'exit' to quit)\n",
      "\n",
      "User: can you seggest me some horror movies\n",
      "Bot: Okay, I can definitely suggest some horror movies! To give you the best recommendations, I need a little more information. What kind of horror are you in the mood for? Here are a few questions to help me narrow it down:\n",
      "\n",
      "*   **What kind of horror do you enjoy?** For example, are you into:\n",
      "    *   **Slashers?** (e.g., *Halloween*, *Scream*)\n",
      "    *   **Supernatural horror?** (e.g., *The Exorcist*, *The Conjuring*)\n",
      "    *   **Psychological horror?** (e.g., *The Babadook*, *Hereditary*)\n",
      "    *   **Creature features?** (e.g., *Alien*, *The Thing*)\n",
      "    *   **Gore and extreme horror?** (e.g., *Terrifier*, *Martyrs*)\n",
      "    *   **Found footage?** (e.g., *The Blair Witch Project*, *Paranormal Activity*)\n",
      "    *   **Something else?** (e.g., zombies, vampires, etc.)\n",
      "\n",
      "*   **Are there any horror movies you've particularly liked or disliked in the past?** This helps me understand your taste.\n",
      "\n",
      "*   **Are you looking for something new, or are you open to classics?**\n",
      "\n",
      "*   **Do you have any specific triggers or things you want to avoid?** (e.g., excessive gore, jump scares, etc.)\n",
      "\n",
      "*   **Are you looking for something that is available to stream, or do you want a movie that is available for purchase?**\n",
      "\n",
      "In the meantime, here are a few general recommendations, covering different subgenres, based on some well-regarded horror films:\n",
      "\n",
      "*   **For a classic slasher:** *Halloween* (1978) - Directed by John Carpenter. A masked killer stalks a babysitter. It's a seminal film in the slasher genre.\n",
      "*   **For supernatural horror:** *The Conjuring* (2013) - Directed by James Wan. Based on the real-life experiences of paranormal investigators Ed and Lorraine Warren. It's known for its effective jump scares and atmosphere.\n",
      "*   **For psychological horror:** *The Babadook* (2014) - Directed by Jennifer Kent. A grieving mother and her son are terrorized by a mysterious creature from a children's book. It's a very thought-provoking and unsettling film.\n",
      "*   **For a creature feature:** *Alien* (1979) - Directed by Ridley Scott. A sci-fi horror classic about a crew of a spaceship hunted by a deadly extraterrestrial.\n",
      "*   **For a modern classic:** *Hereditary* (2018) - Directed by Ari Aster. A family unravels after the death of their grandmother, dealing with dark secrets and terrifying revelations. This one is known for its disturbing imagery and intense atmosphere.\n",
      "*   **For found footage:** *The Blair Witch Project* (1999) - Directed by Daniel Myrick and Eduardo Sánchez. A group of film students venture into the woods to document a local legend, only to encounter something terrifying.\n",
      "\n",
      "I'm excited to give you some more personalized recommendations once I know a little more about your preferences!\n",
      "User: som latest ones\n",
      "Bot: Okay, I can definitely suggest some of the latest horror movies! To help me narrow it down further, can you give me a more specific time frame? \"Latest\" can mean different things to different people. Are you looking for movies released:\n",
      "\n",
      "*   **In the last year (2023-2024)?**\n",
      "*   **In the last two years (2022-2024)?**\n",
      "*   **Something else?**\n",
      "\n",
      "Also, to provide you with the best recommendations, I still need a little more information. What kind of horror do you enjoy? To help me narrow it down, here are a few questions:\n",
      "\n",
      "*   **What kind of horror do you enjoy?** For example, are you into:\n",
      "    *   **Slashers?** (e.g., *Halloween*, *Scream*)\n",
      "    *   **Supernatural horror?** (e.g., *The Exorcist*, *The Conjuring*)\n",
      "    *   **Psychological horror?** (e.g., *The Babadook*, *Hereditary*)\n",
      "    *   **Creature features?** (e.g., *Alien*, *The Thing*)\n",
      "    *   **Gore and extreme horror?** (e.g., *Terrifier*, *Martyrs*)\n",
      "    *   **Found footage?** (e.g., *The Blair Witch Project*, *Paranormal Activity*)\n",
      "    *   **Something else?** (e.g., zombies, vampires, etc.)\n",
      "\n",
      "*   **Are there any horror movies you've particularly liked or disliked in the past?** This helps me understand your taste.\n",
      "\n",
      "*   **Do you have any specific triggers or things you want to avoid?** (e.g., excessive gore, jump scares, etc.)\n",
      "\n",
      "*   **Are you looking for something that is available to stream, or do you want a movie that is available for purchase?**\n",
      "\n",
      "In the meantime, here are a few general recommendations, covering different subgenres, based on some well-regarded horror films from 2022-2023:\n",
      "\n",
      "*   **For a slasher:** *Scream VI* (2023) - Directed by Matt Bettinelli-Olpin and Tyler Gillett. The latest installment in the *Scream* franchise, continuing the story of Ghostface.\n",
      "*   **For supernatural horror:** *Smile* (2022) - Directed by Parker Finn. A therapist witnesses a traumatic event involving a patient and then starts experiencing bizarre and terrifying occurrences.\n",
      "*   **For psychological horror:** *Barbarian* (2022) - Directed by Zach Cregger. A woman finds a strange man already staying in her Airbnb rental. The film takes some unexpected turns.\n",
      "*   **For a creature feature:** *The Black Phone* (2021) - Directed by Scott Derrickson. A kidnapped teenager begins receiving calls from the dead via a mysterious phone.\n",
      "*   **For a modern horror:** *Talk to Me* (2023) - Directed by Danny Philippou and Michael Philippou. A group of friends discovers a way to contact the dead using an embalmed hand.\n",
      "\n",
      "I'm excited to give you some more personalized recommendations once I know a little more about your preferences!\n",
      "Bot: Goodbye! 👋\n"
     ]
    }
   ],
   "source": [
    "print(\"🤖 Gemini Chatbot with Memory (type 'exit' to quit)\\n\")\n",
    "\n",
    "while True:\n",
    "    user_input = input(\"You: \")\n",
    "    if user_input.lower() in [\"exit\", \"quit\"]:\n",
    "        print(\"Bot: Goodbye! 👋\")\n",
    "        break\n",
    "    print(\"User:\",user_input)\n",
    "    response = conversation.predict(input=user_input)\n",
    "    print(\"Bot:\", response)"
   ]
  },
  {
   "cell_type": "code",
   "execution_count": null,
   "id": "cebb4ed6",
   "metadata": {},
   "outputs": [],
   "source": []
  }
 ],
 "metadata": {
  "kernelspec": {
   "display_name": "base",
   "language": "python",
   "name": "python3"
  },
  "language_info": {
   "codemirror_mode": {
    "name": "ipython",
    "version": 3
   },
   "file_extension": ".py",
   "mimetype": "text/x-python",
   "name": "python",
   "nbconvert_exporter": "python",
   "pygments_lexer": "ipython3",
   "version": "3.13.5"
  }
 },
 "nbformat": 4,
 "nbformat_minor": 5
}
